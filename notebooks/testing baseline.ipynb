{
 "cells": [
  {
   "cell_type": "code",
   "execution_count": 5,
   "metadata": {},
   "outputs": [
    {
     "name": "stdout",
     "output_type": "stream",
     "text": [
      "/home/yoom618/TSLib\n"
     ]
    }
   ],
   "source": [
    "import os\n",
    "\n",
    "parent_dir = os.path.dirname(os.path.abspath('./'))\n",
    "os.chdir(parent_dir)\n",
    "print(parent_dir)"
   ]
  },
  {
   "cell_type": "markdown",
   "metadata": {},
   "source": [
    "## 테스트"
   ]
  },
  {
   "cell_type": "code",
   "execution_count": 6,
   "metadata": {},
   "outputs": [
    {
     "name": "stdout",
     "output_type": "stream",
     "text": [
      "bash: ./scripts_custom/long_term_forecast/ETT_script/TimesNet_ETTh1.sh: No such file or directory\n"
     ]
    }
   ],
   "source": [
    "# long-term forecast\n",
    "!bash ./scripts_custom/long_term_forecast/ETT_script/TimesNet_ETTh1.sh"
   ]
  },
  {
   "cell_type": "code",
   "execution_count": 7,
   "metadata": {},
   "outputs": [
    {
     "name": "stdout",
     "output_type": "stream",
     "text": [
      "bash: ./scripts_custom/short_term_forecast/TimesNet_M4.sh: No such file or directory\n"
     ]
    }
   ],
   "source": [
    "# short-term forecast\n",
    "!bash ./scripts_custom/short_term_forecast/TimesNet_M4.sh"
   ]
  },
  {
   "cell_type": "code",
   "execution_count": 8,
   "metadata": {},
   "outputs": [
    {
     "name": "stdout",
     "output_type": "stream",
     "text": [
      "bash: ./scripts_custom/imputation/ETT_script/TimesNet_ETTh1.sh: No such file or directory\n"
     ]
    }
   ],
   "source": [
    "# imputation\n",
    "!bash ./scripts_custom/imputation/ETT_script/TimesNet_ETTh1.sh"
   ]
  },
  {
   "cell_type": "code",
   "execution_count": 9,
   "metadata": {},
   "outputs": [
    {
     "name": "stdout",
     "output_type": "stream",
     "text": [
      "bash: ./scripts_custom/anomaly_detection/PSM/TimesNet.sh: No such file or directory\n"
     ]
    }
   ],
   "source": [
    "# anomaly detection\n",
    "!bash ./scripts_custom/anomaly_detection/PSM/TimesNet.sh"
   ]
  },
  {
   "cell_type": "code",
   "execution_count": 10,
   "metadata": {},
   "outputs": [
    {
     "name": "stdout",
     "output_type": "stream",
     "text": [
      "bash: ./scripts_custom/classification/TimesNet.sh: No such file or directory\n"
     ]
    }
   ],
   "source": [
    "# classification\n",
    "!bash ./scripts_custom/classification/TimesNet.sh"
   ]
  },
  {
   "cell_type": "markdown",
   "metadata": {},
   "source": [
    "# 한꺼번에 돌리기"
   ]
  },
  {
   "cell_type": "code",
   "execution_count": 11,
   "metadata": {},
   "outputs": [
    {
     "name": "stdout",
     "output_type": "stream",
     "text": [
      "\n",
      "mkdir -p results_summary/short_term_forecast\n",
      "nohup bash -c 'for i in ./scripts_custom/short_term_forecast/*.sh; do\n",
      "echo $i;\n",
      "nohup bash $i > \"results_summary/short_term_forecast/$(basename $i).log\";\n",
      "done' > nohup_short_term_forecast.log\n",
      "\n",
      "\n",
      "mkdir -p results_summary/classification\n",
      "nohup bash -c 'for i in ./scripts_custom/classification/*.sh; do\n",
      "echo $i;\n",
      "nohup bash $i > \"results_summary/classification/$(basename $i).log\";\n",
      "done' > nohup_classification.log\n",
      "\n",
      "\n"
     ]
    }
   ],
   "source": [
    "for task in ['short_term_forecast', 'classification']:\n",
    "    print(f'''\n",
    "mkdir -p results_summary/{task}\n",
    "nohup bash -c 'for i in ./scripts_custom/{task}/*.sh; do\n",
    "echo $i;\n",
    "nohup bash $i > \"results_summary/{task}/$(basename $i).log\";\n",
    "done' > nohup_{task}.log\n",
    "''')\n",
    "print()"
   ]
  },
  {
   "cell_type": "code",
   "execution_count": 12,
   "metadata": {},
   "outputs": [
    {
     "name": "stdout",
     "output_type": "stream",
     "text": [
      "\n",
      "mkdir -p results_summary/anomaly_detection\n",
      "nohup bash -c 'for i in ./scripts_custom/anomaly_detection/*/*.sh; do\n",
      "echo $i;\n",
      "nohup bash $i > \"results_summary/anomaly_detection/$(basename $i).log\";\n",
      "done' > nohup_anomaly_detection.log\n",
      "\n",
      "\n",
      "mkdir -p results_summary/imputation\n",
      "nohup bash -c 'for i in ./scripts_custom/imputation/*/*.sh; do\n",
      "echo $i;\n",
      "nohup bash $i > \"results_summary/imputation/$(basename $i).log\";\n",
      "done' > nohup_imputation.log\n",
      "\n",
      "\n",
      "mkdir -p results_summary/long_term_forecast\n",
      "nohup bash -c 'for i in ./scripts_custom/long_term_forecast/*/*.sh; do\n",
      "echo $i;\n",
      "nohup bash $i > \"results_summary/long_term_forecast/$(basename $i).log\";\n",
      "done' > nohup_long_term_forecast.log\n",
      "\n",
      "\n",
      "mkdir -p results_summary/exogenous_forecast\n",
      "nohup bash -c 'for i in ./scripts_custom/exogenous_forecast/*/*.sh; do\n",
      "echo $i;\n",
      "nohup bash $i > \"results_summary/exogenous_forecast/$(basename $i).log\";\n",
      "done' > nohup_exogenous_forecast.log\n",
      "\n"
     ]
    }
   ],
   "source": [
    "for task in ['anomaly_detection', 'imputation', 'long_term_forecast', 'exogenous_forecast']:\n",
    "    print(f'''\n",
    "mkdir -p results_summary/{task}\n",
    "nohup bash -c 'for i in ./scripts_custom/{task}/*/*.sh; do\n",
    "echo $i;\n",
    "nohup bash $i > \"results_summary/{task}/$(basename $i).log\";\n",
    "done' > nohup_{task}.log\n",
    "''')"
   ]
  },
  {
   "cell_type": "code",
   "execution_count": 13,
   "metadata": {},
   "outputs": [
    {
     "name": "stdout",
     "output_type": "stream",
     "text": [
      "python: can't open file '/home/yoom618/TSLib/../run.py': [Errno 2] No such file or directory\n"
     ]
    }
   ],
   "source": [
    "!python -u ../run.py \\\n",
    "  --use_gpu True \\\n",
    "  --gpu 1 \\\n",
    "  --use_multi_gpu \\\n",
    "  --devices 0,1 \\\n",
    "  --task_name classification \\\n",
    "  --is_training 1 \\\n",
    "  --root_path /data/yoom618/TSLib/dataset/UWaveGestureLibrary/ \\\n",
    "  --model_id UWaveGestureLibrary \\\n",
    "  --model Crossformer \\\n",
    "  --data UEA \\\n",
    "  --e_layers 3 \\\n",
    "  --batch_size 32 \\\n",
    "  --d_model 128 \\\n",
    "  --d_ff 256 \\\n",
    "  --top_k 3 \\\n",
    "  --des 'Exp' \\\n",
    "  --itr 1 \\\n",
    "  --learning_rate 0.001 \\\n",
    "  --train_epochs 100 \\\n",
    "  --patience 10"
   ]
  },
  {
   "cell_type": "code",
   "execution_count": 14,
   "metadata": {},
   "outputs": [
    {
     "name": "stdout",
     "output_type": "stream",
     "text": [
      "python: can't open file '/home/yoom618/TSLib/../run.py': [Errno 2] No such file or directory\n"
     ]
    }
   ],
   "source": [
    "!python -u ../run.py \\\n",
    "  --task_name classification \\\n",
    "  --is_training 1 \\\n",
    "  --root_path /data/yoom618/TSLib/dataset/UWaveGestureLibrary/ \\\n",
    "  --model_id UWaveGestureLibrary \\\n",
    "  --model Crossformer \\\n",
    "  --data UEA \\\n",
    "  --e_layers 3 \\\n",
    "  --batch_size 16 \\\n",
    "  --d_model 128 \\\n",
    "  --d_ff 256 \\\n",
    "  --top_k 3 \\\n",
    "  --des 'Exp' \\\n",
    "  --itr 1 \\\n",
    "  --learning_rate 0.001 \\\n",
    "  --train_epochs 100 \\\n",
    "  --patience 10 \\\n",
    "  --use_gpu True \\\n",
    "  --gpu 0"
   ]
  },
  {
   "cell_type": "code",
   "execution_count": 15,
   "metadata": {},
   "outputs": [
    {
     "name": "stdout",
     "output_type": "stream",
     "text": [
      "tensor([-2.9464]) tensor([0.0499])\n",
      "tensor([[-4.0385e+05, -9.3774e+04,  7.1818e+04, -1.7718e+05],\n",
      "        [ 2.6845e+05, -1.1310e+05, -3.1560e+05,  5.4962e+05],\n",
      "        [-1.7211e+05, -2.2929e+05, -7.8162e+04, -2.4122e+05],\n",
      "        [ 7.6207e+05,  1.5279e+05, -1.1155e+05, -4.6037e+02],\n",
      "        [-8.1837e+04,  3.4611e+05,  3.2661e+04,  7.2566e+04],\n",
      "        [-1.0946e+05,  2.6870e+05, -1.1368e+05, -2.7643e+05],\n",
      "        [ 1.6540e+05,  1.1819e+05, -6.6678e+04, -4.4509e+05]])\n"
     ]
    }
   ],
   "source": [
    "import torch\n",
    "\n",
    "B = 7\n",
    "L = 10\n",
    "D = 4\n",
    "\n",
    "interest = torch.rand(1) * 10 - 5  # interest rate of range (-50000, 50000)\n",
    "interest_rate = torch.sigmoid(interest)  # interest rate of range (0, 1)\n",
    "print(interest, interest_rate)\n",
    "ema = torch.tensor([torch.pow(1 - interest, i) for i in range(L - 1, -1, -1)])  # shape (L,)\n",
    "\n",
    "x = torch.randn(B, L, D)\n",
    "\n",
    "print(x.permute(0, 2, 1) @ ema)"
   ]
  }
 ],
 "metadata": {
  "kernelspec": {
   "display_name": "tslib",
   "language": "python",
   "name": "python3"
  },
  "language_info": {
   "codemirror_mode": {
    "name": "ipython",
    "version": 3
   },
   "file_extension": ".py",
   "mimetype": "text/x-python",
   "name": "python",
   "nbconvert_exporter": "python",
   "pygments_lexer": "ipython3",
   "version": "3.12.8"
  }
 },
 "nbformat": 4,
 "nbformat_minor": 2
}
